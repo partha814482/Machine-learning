{
 "cells": [
  {
   "cell_type": "markdown",
   "id": "3a8b918f",
   "metadata": {},
   "source": [
    "1. Import packages and observed dataset"
   ]
  },
  {
   "cell_type": "code",
   "execution_count": 24,
   "id": "21adc8ee",
   "metadata": {},
   "outputs": [],
   "source": [
    "# import numerical libraries\n",
    "import pandas as pd\n",
    "import numpy as np\n",
    "\n",
    "# Import graphical plotting libraries\n",
    "import seaborn as sns\n",
    "import matplotlib.pyplot as plt\n",
    "%matplotlib inline\n",
    "\n",
    "# import Linear Regression Machine learning libraries\n",
    "from sklearn import preprocessing\n",
    "from sklearn.preprocessing import PolynomialFeatures\n",
    "from sklearn.model_selection import train_test_split\n",
    "from sklearn.linear_model import LinearRegression,Ridge,Lasso\n",
    "from sklearn.metrics import r2_score\n",
    "import statsmodels.formula.api as smf"
   ]
  },
  {
   "cell_type": "code",
   "execution_count": 2,
   "id": "e4258589",
   "metadata": {},
   "outputs": [],
   "source": [
    "data = pd.read_csv(r\"C:\\Users\\HP\\OneDrive\\Documents\\SENAPATI SIR FSDS NOTE\\SEPTMBER MONTH DS NOTE\\lasso, ridge, elastic net\\lasso, ridge, elastic net\\car-mpg.csv\")"
   ]
  },
  {
   "cell_type": "code",
   "execution_count": 3,
   "id": "27fc9d29",
   "metadata": {},
   "outputs": [
    {
     "data": {
      "text/html": [
       "<div>\n",
       "<style scoped>\n",
       "    .dataframe tbody tr th:only-of-type {\n",
       "        vertical-align: middle;\n",
       "    }\n",
       "\n",
       "    .dataframe tbody tr th {\n",
       "        vertical-align: top;\n",
       "    }\n",
       "\n",
       "    .dataframe thead th {\n",
       "        text-align: right;\n",
       "    }\n",
       "</style>\n",
       "<table border=\"1\" class=\"dataframe\">\n",
       "  <thead>\n",
       "    <tr style=\"text-align: right;\">\n",
       "      <th></th>\n",
       "      <th>mpg</th>\n",
       "      <th>cyl</th>\n",
       "      <th>disp</th>\n",
       "      <th>hp</th>\n",
       "      <th>wt</th>\n",
       "      <th>acc</th>\n",
       "      <th>yr</th>\n",
       "      <th>origin</th>\n",
       "      <th>car_type</th>\n",
       "      <th>car_name</th>\n",
       "    </tr>\n",
       "  </thead>\n",
       "  <tbody>\n",
       "    <tr>\n",
       "      <th>0</th>\n",
       "      <td>18.0</td>\n",
       "      <td>8</td>\n",
       "      <td>307.0</td>\n",
       "      <td>130</td>\n",
       "      <td>3504</td>\n",
       "      <td>12.0</td>\n",
       "      <td>70</td>\n",
       "      <td>1</td>\n",
       "      <td>0</td>\n",
       "      <td>chevrolet chevelle malibu</td>\n",
       "    </tr>\n",
       "    <tr>\n",
       "      <th>1</th>\n",
       "      <td>15.0</td>\n",
       "      <td>8</td>\n",
       "      <td>350.0</td>\n",
       "      <td>165</td>\n",
       "      <td>3693</td>\n",
       "      <td>11.5</td>\n",
       "      <td>70</td>\n",
       "      <td>1</td>\n",
       "      <td>0</td>\n",
       "      <td>buick skylark 320</td>\n",
       "    </tr>\n",
       "    <tr>\n",
       "      <th>2</th>\n",
       "      <td>18.0</td>\n",
       "      <td>8</td>\n",
       "      <td>318.0</td>\n",
       "      <td>150</td>\n",
       "      <td>3436</td>\n",
       "      <td>11.0</td>\n",
       "      <td>70</td>\n",
       "      <td>1</td>\n",
       "      <td>0</td>\n",
       "      <td>plymouth satellite</td>\n",
       "    </tr>\n",
       "    <tr>\n",
       "      <th>3</th>\n",
       "      <td>16.0</td>\n",
       "      <td>8</td>\n",
       "      <td>304.0</td>\n",
       "      <td>150</td>\n",
       "      <td>3433</td>\n",
       "      <td>12.0</td>\n",
       "      <td>70</td>\n",
       "      <td>1</td>\n",
       "      <td>0</td>\n",
       "      <td>amc rebel sst</td>\n",
       "    </tr>\n",
       "    <tr>\n",
       "      <th>4</th>\n",
       "      <td>17.0</td>\n",
       "      <td>8</td>\n",
       "      <td>302.0</td>\n",
       "      <td>140</td>\n",
       "      <td>3449</td>\n",
       "      <td>10.5</td>\n",
       "      <td>70</td>\n",
       "      <td>1</td>\n",
       "      <td>0</td>\n",
       "      <td>ford torino</td>\n",
       "    </tr>\n",
       "  </tbody>\n",
       "</table>\n",
       "</div>"
      ],
      "text/plain": [
       "    mpg  cyl   disp   hp    wt   acc  yr  origin  car_type  \\\n",
       "0  18.0    8  307.0  130  3504  12.0  70       1         0   \n",
       "1  15.0    8  350.0  165  3693  11.5  70       1         0   \n",
       "2  18.0    8  318.0  150  3436  11.0  70       1         0   \n",
       "3  16.0    8  304.0  150  3433  12.0  70       1         0   \n",
       "4  17.0    8  302.0  140  3449  10.5  70       1         0   \n",
       "\n",
       "                    car_name  \n",
       "0  chevrolet chevelle malibu  \n",
       "1          buick skylark 320  \n",
       "2         plymouth satellite  \n",
       "3              amc rebel sst  \n",
       "4                ford torino  "
      ]
     },
     "execution_count": 3,
     "metadata": {},
     "output_type": "execute_result"
    }
   ],
   "source": [
    "data.head()"
   ]
  },
  {
   "cell_type": "code",
   "execution_count": 4,
   "id": "ffbd286a",
   "metadata": {},
   "outputs": [],
   "source": [
    "#Drop car name\n",
    "# Replace origin into 1,2,3.. donot forget get_dummies\n",
    "# Replace ? with nan \n",
    "#Replace all  with median\n",
    "\n",
    "data = data.drop(['car_name'],axis=1)\n",
    "data['origin'] = data['origin'].replace({1:'american',2:'europe',3:'asia'})\n",
    "data = pd.get_dummies(data,columns=['origin'],dtype= int)\n",
    "data = data.replace('?',np.nan)\n",
    "\n",
    "\n"
   ]
  },
  {
   "cell_type": "markdown",
   "id": "0d489449",
   "metadata": {},
   "source": [
    "The provided Python code snippet, likely intended for data preprocessing using the **pandas** library, performs several common data cleaning and transformation steps.\n",
    "\n",
    "## Code Description\n",
    "\n",
    "The four lines of code execute the following actions:\n",
    "\n",
    "1.  **Drop a Column:**\n",
    "    * `data = data.drop(['car_name'],axis=1)`\n",
    "    * This line removes the column named **'car_name'** from the DataFrame called `data`.\n",
    "    * `axis=1` specifies that a column (not a row) should be dropped. The result is then assigned back to the `data` variable. This suggests that the car name is not needed for the subsequent analysis or modeling.\n",
    "\n",
    "---\n",
    "\n",
    "2.  **Recode Categorical Values:**\n",
    "    * `data['origin'] = data['origin'].replace({1:'american',2:'europe',3:'asia'})`\n",
    "    * This line transforms the numerical values in the **'origin'** column into more descriptive string labels.\n",
    "    * Specifically, `1` is replaced with **'american'**, `2` with **'europe'**, and `3` with **'asia'**. This makes the column more human-readable.\n",
    "\n",
    "---\n",
    "\n",
    "3.  **Perform One-Hot Encoding:**\n",
    "    * `data = pd.get_dummies(data,columns=['origin'],dtype=int)`\n",
    "    * This line performs **one-hot encoding** on the now-categorical **'origin'** column.\n",
    "    * It creates new binary (dummy) columns for each unique value in 'origin' (e.g., 'origin\\_american', 'origin\\_europe', 'origin\\_asia').\n",
    "    * For any given row, the corresponding dummy column will have a `1` if the car originated there, and `0` otherwise.\n",
    "    * `dtype=int` ensures the values in the new dummy columns are integers (0 or 1). This is a standard practice for preparing categorical data for machine learning models.\n",
    "\n",
    "---\n",
    "\n",
    "4.  **Replace Missing Value Indicators:**\n",
    "    * `data = data.replace('?',np.nan)`\n",
    "    * This line replaces all occurrences of the string **'?'** within the entire DataFrame with **`np.nan`** (Not a Number), which is the standard numerical representation for missing data in pandas and NumPy.\n",
    "    * This is a crucial step for handling missing values, as most statistical and machine learning methods can't directly process the '?' string but are designed to handle `np.nan`.\n",
    "\n",
    "In summary, the code cleans the dataset by removing an unnecessary identifier column, makes a categorical column more informative by using descriptive labels, transforms that categorical column into a numerical format suitable for modeling (one-hot encoding), and standardizes the representation of missing values."
   ]
  },
  {
   "cell_type": "code",
   "execution_count": 5,
   "id": "7dfe20d9",
   "metadata": {},
   "outputs": [
    {
     "data": {
      "text/html": [
       "<div>\n",
       "<style scoped>\n",
       "    .dataframe tbody tr th:only-of-type {\n",
       "        vertical-align: middle;\n",
       "    }\n",
       "\n",
       "    .dataframe tbody tr th {\n",
       "        vertical-align: top;\n",
       "    }\n",
       "\n",
       "    .dataframe thead th {\n",
       "        text-align: right;\n",
       "    }\n",
       "</style>\n",
       "<table border=\"1\" class=\"dataframe\">\n",
       "  <thead>\n",
       "    <tr style=\"text-align: right;\">\n",
       "      <th></th>\n",
       "      <th>mpg</th>\n",
       "      <th>cyl</th>\n",
       "      <th>disp</th>\n",
       "      <th>hp</th>\n",
       "      <th>wt</th>\n",
       "      <th>acc</th>\n",
       "      <th>yr</th>\n",
       "      <th>car_type</th>\n",
       "      <th>origin_american</th>\n",
       "      <th>origin_asia</th>\n",
       "      <th>origin_europe</th>\n",
       "    </tr>\n",
       "  </thead>\n",
       "  <tbody>\n",
       "    <tr>\n",
       "      <th>0</th>\n",
       "      <td>18.0</td>\n",
       "      <td>8</td>\n",
       "      <td>307.0</td>\n",
       "      <td>130</td>\n",
       "      <td>3504</td>\n",
       "      <td>12.0</td>\n",
       "      <td>70</td>\n",
       "      <td>0</td>\n",
       "      <td>1</td>\n",
       "      <td>0</td>\n",
       "      <td>0</td>\n",
       "    </tr>\n",
       "    <tr>\n",
       "      <th>1</th>\n",
       "      <td>15.0</td>\n",
       "      <td>8</td>\n",
       "      <td>350.0</td>\n",
       "      <td>165</td>\n",
       "      <td>3693</td>\n",
       "      <td>11.5</td>\n",
       "      <td>70</td>\n",
       "      <td>0</td>\n",
       "      <td>1</td>\n",
       "      <td>0</td>\n",
       "      <td>0</td>\n",
       "    </tr>\n",
       "    <tr>\n",
       "      <th>2</th>\n",
       "      <td>18.0</td>\n",
       "      <td>8</td>\n",
       "      <td>318.0</td>\n",
       "      <td>150</td>\n",
       "      <td>3436</td>\n",
       "      <td>11.0</td>\n",
       "      <td>70</td>\n",
       "      <td>0</td>\n",
       "      <td>1</td>\n",
       "      <td>0</td>\n",
       "      <td>0</td>\n",
       "    </tr>\n",
       "    <tr>\n",
       "      <th>3</th>\n",
       "      <td>16.0</td>\n",
       "      <td>8</td>\n",
       "      <td>304.0</td>\n",
       "      <td>150</td>\n",
       "      <td>3433</td>\n",
       "      <td>12.0</td>\n",
       "      <td>70</td>\n",
       "      <td>0</td>\n",
       "      <td>1</td>\n",
       "      <td>0</td>\n",
       "      <td>0</td>\n",
       "    </tr>\n",
       "    <tr>\n",
       "      <th>4</th>\n",
       "      <td>17.0</td>\n",
       "      <td>8</td>\n",
       "      <td>302.0</td>\n",
       "      <td>140</td>\n",
       "      <td>3449</td>\n",
       "      <td>10.5</td>\n",
       "      <td>70</td>\n",
       "      <td>0</td>\n",
       "      <td>1</td>\n",
       "      <td>0</td>\n",
       "      <td>0</td>\n",
       "    </tr>\n",
       "  </tbody>\n",
       "</table>\n",
       "</div>"
      ],
      "text/plain": [
       "    mpg  cyl   disp   hp    wt   acc  yr  car_type  origin_american  \\\n",
       "0  18.0    8  307.0  130  3504  12.0  70         0                1   \n",
       "1  15.0    8  350.0  165  3693  11.5  70         0                1   \n",
       "2  18.0    8  318.0  150  3436  11.0  70         0                1   \n",
       "3  16.0    8  304.0  150  3433  12.0  70         0                1   \n",
       "4  17.0    8  302.0  140  3449  10.5  70         0                1   \n",
       "\n",
       "   origin_asia  origin_europe  \n",
       "0            0              0  \n",
       "1            0              0  \n",
       "2            0              0  \n",
       "3            0              0  \n",
       "4            0              0  "
      ]
     },
     "execution_count": 5,
     "metadata": {},
     "output_type": "execute_result"
    }
   ],
   "source": [
    "data.head()"
   ]
  },
  {
   "cell_type": "code",
   "execution_count": 6,
   "id": "aa35b97c",
   "metadata": {},
   "outputs": [
    {
     "name": "stderr",
     "output_type": "stream",
     "text": [
      "C:\\Users\\HP\\AppData\\Local\\Temp\\ipykernel_19416\\1565298511.py:1: FutureWarning: errors='ignore' is deprecated and will raise in a future version. Use to_numeric without passing `errors` and catch exceptions explicitly instead\n",
      "  data = data.apply(pd.to_numeric,errors='ignore')\n"
     ]
    }
   ],
   "source": [
    "data = data.apply(pd.to_numeric,errors='ignore')\n",
    "numeric_cols = data.select_dtypes(include=[np.number]).columns\n",
    "data[numeric_cols] = data[numeric_cols].apply(lambda x: x.fillna(x.median()),axis = 0)"
   ]
  },
  {
   "cell_type": "markdown",
   "id": "0431c965",
   "metadata": {},
   "source": [
    "Line\tCode\tDescription\n",
    "1.\tdata = data.apply(pd.to_numeric, errors='ignore')\tThis line attempts to convert the data type of every column in the DataFrame to a numeric type (like int or float). The key argument, errors='ignore', ensures that if a column cannot be fully converted to a number (because it contains non-numeric text), its original data type is retained, preventing errors.\n",
    "\n",
    "\n",
    "2.\tnumeric_cols = data.select_dtypes(include=[np.number]).columns\tThis line identifies which columns are currently of a numeric data type (including those successfully converted in the previous step). The names of these columns are stored in the list numeric_cols.\n",
    "\n",
    "\n",
    "3.\tdata[numeric_cols] = data[numeric_cols].apply(lambda x: x.fillna(x.median()),axis = 0)\tThis line performs median imputation on the numeric columns. It selects only the numeric columns and replaces any remaining missing values (NaN) in each column with the median value calculated for that specific column. Using the median is a robust technique for imputation, as it is less sensitive to outliers than the mean."
   ]
  },
  {
   "cell_type": "code",
   "execution_count": 7,
   "id": "0dc100ec",
   "metadata": {},
   "outputs": [
    {
     "data": {
      "text/html": [
       "<div>\n",
       "<style scoped>\n",
       "    .dataframe tbody tr th:only-of-type {\n",
       "        vertical-align: middle;\n",
       "    }\n",
       "\n",
       "    .dataframe tbody tr th {\n",
       "        vertical-align: top;\n",
       "    }\n",
       "\n",
       "    .dataframe thead th {\n",
       "        text-align: right;\n",
       "    }\n",
       "</style>\n",
       "<table border=\"1\" class=\"dataframe\">\n",
       "  <thead>\n",
       "    <tr style=\"text-align: right;\">\n",
       "      <th></th>\n",
       "      <th>mpg</th>\n",
       "      <th>cyl</th>\n",
       "      <th>disp</th>\n",
       "      <th>hp</th>\n",
       "      <th>wt</th>\n",
       "      <th>acc</th>\n",
       "      <th>yr</th>\n",
       "      <th>car_type</th>\n",
       "      <th>origin_american</th>\n",
       "      <th>origin_asia</th>\n",
       "      <th>origin_europe</th>\n",
       "    </tr>\n",
       "  </thead>\n",
       "  <tbody>\n",
       "    <tr>\n",
       "      <th>0</th>\n",
       "      <td>18.0</td>\n",
       "      <td>8</td>\n",
       "      <td>307.0</td>\n",
       "      <td>130.0</td>\n",
       "      <td>3504</td>\n",
       "      <td>12.0</td>\n",
       "      <td>70</td>\n",
       "      <td>0</td>\n",
       "      <td>1</td>\n",
       "      <td>0</td>\n",
       "      <td>0</td>\n",
       "    </tr>\n",
       "  </tbody>\n",
       "</table>\n",
       "</div>"
      ],
      "text/plain": [
       "    mpg  cyl   disp     hp    wt   acc  yr  car_type  origin_american  \\\n",
       "0  18.0    8  307.0  130.0  3504  12.0  70         0                1   \n",
       "\n",
       "   origin_asia  origin_europe  \n",
       "0            0              0  "
      ]
     },
     "execution_count": 7,
     "metadata": {},
     "output_type": "execute_result"
    }
   ],
   "source": [
    "data.head(1)"
   ]
  },
  {
   "cell_type": "markdown",
   "id": "c3d0be9d",
   "metadata": {},
   "source": [
    "we have to predict the mpg columns giving the feature\n"
   ]
  },
  {
   "cell_type": "markdown",
   "id": "e7be8ba7",
   "metadata": {},
   "source": [
    "2. Model building\n",
    "\n",
    "Here we would like to scale the data as the columns are varied which would reset in the 1 columns dominating the others.\n",
    "\n",
    "First we divided the data into independent (x) and dependent (y) then we scale it\n",
    "\n",
    "#### Tip!: ####\n",
    "\n",
    "*The reason we don't scale the entire data before and then divide it into train(X) & test(y) is because once you scale the data, the type(data_s) would be numpy.ndarray. It's impossible to divide this data when it's an array. \n",
    "*\n",
    "\n",
    "Hence we divide type(data) pandas.DataFrame, then proceed to scaling it.\n"
   ]
  },
  {
   "cell_type": "code",
   "execution_count": 8,
   "id": "eaf478d5",
   "metadata": {},
   "outputs": [],
   "source": [
    "x = data.drop(['mpg'],axis=1) # In dependent variable\n",
    "y = data[['mpg']] # dependent variable"
   ]
  },
  {
   "cell_type": "code",
   "execution_count": 9,
   "id": "8fc3d00d",
   "metadata": {},
   "outputs": [
    {
     "data": {
      "text/html": [
       "<div>\n",
       "<style scoped>\n",
       "    .dataframe tbody tr th:only-of-type {\n",
       "        vertical-align: middle;\n",
       "    }\n",
       "\n",
       "    .dataframe tbody tr th {\n",
       "        vertical-align: top;\n",
       "    }\n",
       "\n",
       "    .dataframe thead th {\n",
       "        text-align: right;\n",
       "    }\n",
       "</style>\n",
       "<table border=\"1\" class=\"dataframe\">\n",
       "  <thead>\n",
       "    <tr style=\"text-align: right;\">\n",
       "      <th></th>\n",
       "      <th>cyl</th>\n",
       "      <th>disp</th>\n",
       "      <th>hp</th>\n",
       "      <th>wt</th>\n",
       "      <th>acc</th>\n",
       "      <th>yr</th>\n",
       "      <th>car_type</th>\n",
       "      <th>origin_american</th>\n",
       "      <th>origin_asia</th>\n",
       "      <th>origin_europe</th>\n",
       "    </tr>\n",
       "  </thead>\n",
       "  <tbody>\n",
       "    <tr>\n",
       "      <th>0</th>\n",
       "      <td>8</td>\n",
       "      <td>307.0</td>\n",
       "      <td>130.0</td>\n",
       "      <td>3504</td>\n",
       "      <td>12.0</td>\n",
       "      <td>70</td>\n",
       "      <td>0</td>\n",
       "      <td>1</td>\n",
       "      <td>0</td>\n",
       "      <td>0</td>\n",
       "    </tr>\n",
       "    <tr>\n",
       "      <th>1</th>\n",
       "      <td>8</td>\n",
       "      <td>350.0</td>\n",
       "      <td>165.0</td>\n",
       "      <td>3693</td>\n",
       "      <td>11.5</td>\n",
       "      <td>70</td>\n",
       "      <td>0</td>\n",
       "      <td>1</td>\n",
       "      <td>0</td>\n",
       "      <td>0</td>\n",
       "    </tr>\n",
       "    <tr>\n",
       "      <th>2</th>\n",
       "      <td>8</td>\n",
       "      <td>318.0</td>\n",
       "      <td>150.0</td>\n",
       "      <td>3436</td>\n",
       "      <td>11.0</td>\n",
       "      <td>70</td>\n",
       "      <td>0</td>\n",
       "      <td>1</td>\n",
       "      <td>0</td>\n",
       "      <td>0</td>\n",
       "    </tr>\n",
       "    <tr>\n",
       "      <th>3</th>\n",
       "      <td>8</td>\n",
       "      <td>304.0</td>\n",
       "      <td>150.0</td>\n",
       "      <td>3433</td>\n",
       "      <td>12.0</td>\n",
       "      <td>70</td>\n",
       "      <td>0</td>\n",
       "      <td>1</td>\n",
       "      <td>0</td>\n",
       "      <td>0</td>\n",
       "    </tr>\n",
       "    <tr>\n",
       "      <th>4</th>\n",
       "      <td>8</td>\n",
       "      <td>302.0</td>\n",
       "      <td>140.0</td>\n",
       "      <td>3449</td>\n",
       "      <td>10.5</td>\n",
       "      <td>70</td>\n",
       "      <td>0</td>\n",
       "      <td>1</td>\n",
       "      <td>0</td>\n",
       "      <td>0</td>\n",
       "    </tr>\n",
       "  </tbody>\n",
       "</table>\n",
       "</div>"
      ],
      "text/plain": [
       "   cyl   disp     hp    wt   acc  yr  car_type  origin_american  origin_asia  \\\n",
       "0    8  307.0  130.0  3504  12.0  70         0                1            0   \n",
       "1    8  350.0  165.0  3693  11.5  70         0                1            0   \n",
       "2    8  318.0  150.0  3436  11.0  70         0                1            0   \n",
       "3    8  304.0  150.0  3433  12.0  70         0                1            0   \n",
       "4    8  302.0  140.0  3449  10.5  70         0                1            0   \n",
       "\n",
       "   origin_europe  \n",
       "0              0  \n",
       "1              0  \n",
       "2              0  \n",
       "3              0  \n",
       "4              0  "
      ]
     },
     "execution_count": 9,
     "metadata": {},
     "output_type": "execute_result"
    }
   ],
   "source": [
    "x.head()"
   ]
  },
  {
   "cell_type": "code",
   "execution_count": 10,
   "id": "30376ff2",
   "metadata": {},
   "outputs": [
    {
     "data": {
      "text/html": [
       "<div>\n",
       "<style scoped>\n",
       "    .dataframe tbody tr th:only-of-type {\n",
       "        vertical-align: middle;\n",
       "    }\n",
       "\n",
       "    .dataframe tbody tr th {\n",
       "        vertical-align: top;\n",
       "    }\n",
       "\n",
       "    .dataframe thead th {\n",
       "        text-align: right;\n",
       "    }\n",
       "</style>\n",
       "<table border=\"1\" class=\"dataframe\">\n",
       "  <thead>\n",
       "    <tr style=\"text-align: right;\">\n",
       "      <th></th>\n",
       "      <th>mpg</th>\n",
       "    </tr>\n",
       "  </thead>\n",
       "  <tbody>\n",
       "    <tr>\n",
       "      <th>0</th>\n",
       "      <td>18.0</td>\n",
       "    </tr>\n",
       "    <tr>\n",
       "      <th>1</th>\n",
       "      <td>15.0</td>\n",
       "    </tr>\n",
       "    <tr>\n",
       "      <th>2</th>\n",
       "      <td>18.0</td>\n",
       "    </tr>\n",
       "    <tr>\n",
       "      <th>3</th>\n",
       "      <td>16.0</td>\n",
       "    </tr>\n",
       "    <tr>\n",
       "      <th>4</th>\n",
       "      <td>17.0</td>\n",
       "    </tr>\n",
       "  </tbody>\n",
       "</table>\n",
       "</div>"
      ],
      "text/plain": [
       "    mpg\n",
       "0  18.0\n",
       "1  15.0\n",
       "2  18.0\n",
       "3  16.0\n",
       "4  17.0"
      ]
     },
     "execution_count": 10,
     "metadata": {},
     "output_type": "execute_result"
    }
   ],
   "source": [
    "y.head()"
   ]
  },
  {
   "cell_type": "code",
   "execution_count": 11,
   "id": "8d885850",
   "metadata": {},
   "outputs": [],
   "source": [
    "# Scaling the data\n",
    "\n",
    "x_s = preprocessing.scale(x)\n",
    "x_s = pd.DataFrame(x_s,columns=x.columns)# converting data into dataframe\n",
    "y_s = preprocessing.scale(y)\n",
    "y_s = pd.DataFrame(y_s,columns=y.columns) # ideally train,test data should be in columns"
   ]
  },
  {
   "cell_type": "code",
   "execution_count": 12,
   "id": "85998494",
   "metadata": {},
   "outputs": [
    {
     "data": {
      "text/html": [
       "<div>\n",
       "<style scoped>\n",
       "    .dataframe tbody tr th:only-of-type {\n",
       "        vertical-align: middle;\n",
       "    }\n",
       "\n",
       "    .dataframe tbody tr th {\n",
       "        vertical-align: top;\n",
       "    }\n",
       "\n",
       "    .dataframe thead th {\n",
       "        text-align: right;\n",
       "    }\n",
       "</style>\n",
       "<table border=\"1\" class=\"dataframe\">\n",
       "  <thead>\n",
       "    <tr style=\"text-align: right;\">\n",
       "      <th></th>\n",
       "      <th>cyl</th>\n",
       "      <th>disp</th>\n",
       "      <th>hp</th>\n",
       "      <th>wt</th>\n",
       "      <th>acc</th>\n",
       "      <th>yr</th>\n",
       "      <th>car_type</th>\n",
       "      <th>origin_american</th>\n",
       "      <th>origin_asia</th>\n",
       "      <th>origin_europe</th>\n",
       "    </tr>\n",
       "  </thead>\n",
       "  <tbody>\n",
       "    <tr>\n",
       "      <th>0</th>\n",
       "      <td>1.498191</td>\n",
       "      <td>1.090604</td>\n",
       "      <td>0.673118</td>\n",
       "      <td>0.630870</td>\n",
       "      <td>-1.295498</td>\n",
       "      <td>-1.627426</td>\n",
       "      <td>-1.062235</td>\n",
       "      <td>0.773559</td>\n",
       "      <td>-0.497643</td>\n",
       "      <td>-0.461968</td>\n",
       "    </tr>\n",
       "    <tr>\n",
       "      <th>1</th>\n",
       "      <td>1.498191</td>\n",
       "      <td>1.503514</td>\n",
       "      <td>1.589958</td>\n",
       "      <td>0.854333</td>\n",
       "      <td>-1.477038</td>\n",
       "      <td>-1.627426</td>\n",
       "      <td>-1.062235</td>\n",
       "      <td>0.773559</td>\n",
       "      <td>-0.497643</td>\n",
       "      <td>-0.461968</td>\n",
       "    </tr>\n",
       "    <tr>\n",
       "      <th>2</th>\n",
       "      <td>1.498191</td>\n",
       "      <td>1.196232</td>\n",
       "      <td>1.197027</td>\n",
       "      <td>0.550470</td>\n",
       "      <td>-1.658577</td>\n",
       "      <td>-1.627426</td>\n",
       "      <td>-1.062235</td>\n",
       "      <td>0.773559</td>\n",
       "      <td>-0.497643</td>\n",
       "      <td>-0.461968</td>\n",
       "    </tr>\n",
       "    <tr>\n",
       "      <th>3</th>\n",
       "      <td>1.498191</td>\n",
       "      <td>1.061796</td>\n",
       "      <td>1.197027</td>\n",
       "      <td>0.546923</td>\n",
       "      <td>-1.295498</td>\n",
       "      <td>-1.627426</td>\n",
       "      <td>-1.062235</td>\n",
       "      <td>0.773559</td>\n",
       "      <td>-0.497643</td>\n",
       "      <td>-0.461968</td>\n",
       "    </tr>\n",
       "    <tr>\n",
       "      <th>4</th>\n",
       "      <td>1.498191</td>\n",
       "      <td>1.042591</td>\n",
       "      <td>0.935072</td>\n",
       "      <td>0.565841</td>\n",
       "      <td>-1.840117</td>\n",
       "      <td>-1.627426</td>\n",
       "      <td>-1.062235</td>\n",
       "      <td>0.773559</td>\n",
       "      <td>-0.497643</td>\n",
       "      <td>-0.461968</td>\n",
       "    </tr>\n",
       "  </tbody>\n",
       "</table>\n",
       "</div>"
      ],
      "text/plain": [
       "        cyl      disp        hp        wt       acc        yr  car_type  \\\n",
       "0  1.498191  1.090604  0.673118  0.630870 -1.295498 -1.627426 -1.062235   \n",
       "1  1.498191  1.503514  1.589958  0.854333 -1.477038 -1.627426 -1.062235   \n",
       "2  1.498191  1.196232  1.197027  0.550470 -1.658577 -1.627426 -1.062235   \n",
       "3  1.498191  1.061796  1.197027  0.546923 -1.295498 -1.627426 -1.062235   \n",
       "4  1.498191  1.042591  0.935072  0.565841 -1.840117 -1.627426 -1.062235   \n",
       "\n",
       "   origin_american  origin_asia  origin_europe  \n",
       "0         0.773559    -0.497643      -0.461968  \n",
       "1         0.773559    -0.497643      -0.461968  \n",
       "2         0.773559    -0.497643      -0.461968  \n",
       "3         0.773559    -0.497643      -0.461968  \n",
       "4         0.773559    -0.497643      -0.461968  "
      ]
     },
     "execution_count": 12,
     "metadata": {},
     "output_type": "execute_result"
    }
   ],
   "source": [
    "x_s.head()"
   ]
  },
  {
   "cell_type": "code",
   "execution_count": 13,
   "id": "1d48351d",
   "metadata": {},
   "outputs": [
    {
     "data": {
      "text/html": [
       "<div>\n",
       "<style scoped>\n",
       "    .dataframe tbody tr th:only-of-type {\n",
       "        vertical-align: middle;\n",
       "    }\n",
       "\n",
       "    .dataframe tbody tr th {\n",
       "        vertical-align: top;\n",
       "    }\n",
       "\n",
       "    .dataframe thead th {\n",
       "        text-align: right;\n",
       "    }\n",
       "</style>\n",
       "<table border=\"1\" class=\"dataframe\">\n",
       "  <thead>\n",
       "    <tr style=\"text-align: right;\">\n",
       "      <th></th>\n",
       "      <th>mpg</th>\n",
       "    </tr>\n",
       "  </thead>\n",
       "  <tbody>\n",
       "    <tr>\n",
       "      <th>0</th>\n",
       "      <td>-0.706439</td>\n",
       "    </tr>\n",
       "    <tr>\n",
       "      <th>1</th>\n",
       "      <td>-1.090751</td>\n",
       "    </tr>\n",
       "    <tr>\n",
       "      <th>2</th>\n",
       "      <td>-0.706439</td>\n",
       "    </tr>\n",
       "    <tr>\n",
       "      <th>3</th>\n",
       "      <td>-0.962647</td>\n",
       "    </tr>\n",
       "    <tr>\n",
       "      <th>4</th>\n",
       "      <td>-0.834543</td>\n",
       "    </tr>\n",
       "  </tbody>\n",
       "</table>\n",
       "</div>"
      ],
      "text/plain": [
       "        mpg\n",
       "0 -0.706439\n",
       "1 -1.090751\n",
       "2 -0.706439\n",
       "3 -0.962647\n",
       "4 -0.834543"
      ]
     },
     "execution_count": 13,
     "metadata": {},
     "output_type": "execute_result"
    }
   ],
   "source": [
    "y_s.head()"
   ]
  },
  {
   "cell_type": "markdown",
   "id": "28a005ed",
   "metadata": {},
   "source": [
    "Line\tCode\tDescription\n",
    "\n",
    "1.\tx_s = preprocessing.scale(x)\tThe feature data (x) is scaled (standardized). The result, which is typically a NumPy array, is stored in x_s.\n",
    "\n",
    "\n",
    "2.\tx_s = pd.DataFrame(x_s, columns=x.columns)\tThe scaled feature array (x_s) is converted back into a Pandas DataFrame. The original column names from x are preserved for easy identification and use in modeling.\n",
    "\n",
    "\n",
    "3.\ty_s = preprocessing.scale(y)\tThe target variable data (y) is also scaled (standardized). Scaling the target variable is often done in regression problems, although it's less common than scaling the features. The result is stored in y_s.\n",
    "\n",
    "\n",
    "4.\ty_s = pd.DataFrame(y_s, columns=y.columns)\tThe scaled target array (y_s) is converted back into a Pandas DataFrame. The original column names from y are used, although typically y would have only one column."
   ]
  },
  {
   "cell_type": "code",
   "execution_count": 14,
   "id": "53292a97",
   "metadata": {},
   "outputs": [
    {
     "name": "stdout",
     "output_type": "stream",
     "text": [
      "(278, 10)\n",
      "(278, 1)\n",
      "(120, 10)\n",
      "(120, 1)\n"
     ]
    }
   ],
   "source": [
    "#Split the data into train ,test set\n",
    "x_train,x_test,y_train,y_test = train_test_split(x_s,y_s,test_size=0.3,random_state=1)\n",
    "print(x_train.shape)\n",
    "print(y_train.shape)\n",
    "\n",
    "print(x_test.shape)\n",
    "print(y_test.shape)\n"
   ]
  },
  {
   "cell_type": "markdown",
   "id": "fb1926dc",
   "metadata": {},
   "source": [
    "2.a Simple linear Model"
   ]
  },
  {
   "cell_type": "code",
   "execution_count": 15,
   "id": "ace89fed",
   "metadata": {},
   "outputs": [
    {
     "name": "stdout",
     "output_type": "stream",
     "text": [
      "The coefficent for cyl is 0.3210223856916133\n",
      "The coefficent for disp is 0.32483430918483835\n",
      "The coefficent for hp is -0.2291695005943753\n",
      "The coefficent for wt is -0.7112101905072297\n",
      "The coefficent for acc is 0.01471368276419157\n",
      "The coefficent for yr is 0.37558119495107367\n",
      "The coefficent for car_type is 0.38147694842331015\n",
      "The coefficent for origin_american is -0.07472247547584257\n",
      "The coefficent for origin_asia is 0.04451525203567755\n",
      "The coefficent for origin_europe is 0.04834854953945342\n",
      "the intercept is 0.019284116103639764\n"
     ]
    }
   ],
   "source": [
    "# Fit simple linear model and find coefficent\n",
    "regression_model = LinearRegression()\n",
    "regression_model.fit(x_train,y_train)\n",
    "\n",
    "for idx,col_name in enumerate(x_train.columns):\n",
    "    print('The coefficent for {} is {}'.format(col_name,regression_model.coef_[0][idx]))\n",
    "    \n",
    "intercept = regression_model.intercept_[0]\n",
    "print('the intercept is {}'.format(intercept))"
   ]
  },
  {
   "cell_type": "markdown",
   "id": "f5d9028a",
   "metadata": {},
   "source": [
    "2.b Regularized Ridge Regression"
   ]
  },
  {
   "cell_type": "code",
   "execution_count": 16,
   "id": "bea69e22",
   "metadata": {},
   "outputs": [
    {
     "name": "stdout",
     "output_type": "stream",
     "text": [
      "Ridge model coef:[ 0.31649043  0.31320707 -0.22876025 -0.70109447  0.01295851  0.37447352\n",
      "  0.37725608 -0.07423624  0.04441039  0.04784031]\n"
     ]
    }
   ],
   "source": [
    "# alpha factor here is lamda (penalty term) which helps to reduce the magnitude of coeff\n",
    "\n",
    "Ridge_model = Ridge(alpha=0.3)\n",
    "Ridge_model.fit(x_train,y_train)\n",
    "\n",
    "print('Ridge model coef:{}'.format(Ridge_model.coef_))\n",
    "# As the data has 10 columns hances 10 coefficent appear here"
   ]
  },
  {
   "cell_type": "markdown",
   "id": "4480ee9e",
   "metadata": {},
   "source": [
    "This code snippet describes the process of **fitting a Ridge Regression model** to training data. Ridge Regression is a type of linear regression that includes an **L2 penalty** (also known as regularization) to prevent overfitting.\n",
    "\n",
    "***\n",
    "\n",
    "## Code Description\n",
    "\n",
    "| Line | Code | Description |\n",
    "| :--- | :--- | :--- |\n",
    "| **1** | `Ridge_model = Ridge(alpha=0.3)` | This line **instantiates** (creates an instance of) the **Ridge Regression model** from a machine learning library (most commonly Scikit-learn). The key parameter is `alpha=0.3`, where **`alpha`** (or $\\lambda$) is the **regularization strength** or **penalty term**. A non-zero alpha adds a penalty equal to the square of the magnitude of coefficients to the loss function, forcing the model to select smaller coefficients. |\n",
    "| **2** | `Ridge_model.fit(x_train, y_train)` | This line **trains** the instantiated `Ridge_model`. It uses the **feature training data** (`x_train`) and the **target training data** (`y_train`) to find the optimal set of coefficients that minimizes the regularized loss function. |\n",
    "| **3** | `print('Ridge model coef:{}'.format(Ridge_model.coef_))` | After training, this line **prints the coefficient values** learned by the Ridge model. |\n",
    "| **4** | `# As the data has 10 columns hances 10 coefficent appear here` | This comment confirms that the number of coefficients printed will match the number of **features** (columns) in the `x_train` data. Since the problem uses a linear model, there will be one coefficient for each feature. |\n",
    "\n",
    "### Role of Alpha ($\\alpha$)\n",
    "\n",
    "The comment correctly identifies that **$\\alpha$ is the penalty term** (often denoted as $\\lambda$ in statistical texts). Its purpose is to **reduce the magnitude of the coefficients**.\n",
    "\n",
    "* **How it works:** Ridge Regression seeks to minimize the sum of the squared errors plus the L2 penalty:\n",
    "    $$\\text{Loss} = \\sum_{i=1}^{n} (y_i - \\hat{y}_i)^2 + \\alpha \\sum_{j=1}^{p} \\beta_j^2$$\n",
    "    Where $\\beta_j$ are the coefficients.\n",
    "* By adding the $\\alpha \\sum \\beta_j^2$ term, the model is penalized for having large coefficients, leading to a more generalized and stable model that is less prone to overfitting, especially when features are highly correlated (**multicollinearity**)."
   ]
  },
  {
   "cell_type": "markdown",
   "id": "16aff28c",
   "metadata": {},
   "source": [
    "2. c Regularization Lasso Regression"
   ]
  },
  {
   "cell_type": "code",
   "execution_count": 19,
   "id": "741bab9e",
   "metadata": {},
   "outputs": [
    {
     "name": "stdout",
     "output_type": "stream",
     "text": [
      "Ridge model coef:[-0.         -0.         -0.01690287 -0.51890013  0.          0.28138241\n",
      "  0.1278489  -0.01642647  0.          0.        ]\n"
     ]
    }
   ],
   "source": [
    "# alpha factor here is lamda (penalty term) which helps to reduce the magnitude of coeff\n",
    "\n",
    "Lasso_model = Lasso(alpha=0.1)\n",
    "Lasso_model.fit(x_train,y_train)\n",
    "\n",
    "print('Ridge model coef:{}'.format(Lasso_model.coef_))\n",
    "# As the data has 10 columns hances 10 coefficent appear here"
   ]
  },
  {
   "cell_type": "markdown",
   "id": "48edfc83",
   "metadata": {},
   "source": [
    "Line\tCode\tDescription\n",
    "1.\tRidge_model = Lasso(alpha=0.1)\tThis line instantiates the Lasso Regression model (from a library like Scikit-learn). The model is mistakenly named Ridge_model but the actual algorithm being used is Lasso. The key parameter is alpha=0.1, which is the regularization strength or penalty term (λ).\n",
    "\n",
    "\n",
    "2.\tRidge_model.fit(x_train, y_train)\tThis line trains the Lasso model. It uses the feature training data (x_train) and the target training data (y_train) to find the optimal coefficients that minimize the regularized loss function.\n",
    "\n",
    "\n",
    "3.\tprint('Ridge model coef:{}'.format(Ridge_model.coef_))\tAfter training, this line prints the coefficient values learned by the Lasso model. Note the string still incorrectly refers to \"Ridge model\".\n",
    "\n",
    "\n",
    "4.\tAs the data has 10 columns hances 10 coefficent appear here\tThis comment is accurate for any linear model: the number of coefficients printed will match the number of features (columns) in the x_train data.\n",
    "\n",
    "\n"
   ]
  },
  {
   "cell_type": "markdown",
   "id": "b0453047",
   "metadata": {},
   "source": [
    "3.Score comparision"
   ]
  },
  {
   "cell_type": "code",
   "execution_count": 21,
   "id": "e89a50c9",
   "metadata": {},
   "outputs": [
    {
     "name": "stdout",
     "output_type": "stream",
     "text": [
      "0.8343770256960538\n",
      "0.8513421387780066\n",
      "***********************************************\n",
      "0.7938010766228453\n",
      "0.8375229615977084\n",
      "***********************************************\n",
      "0.7938010766228453\n",
      "0.8375229615977084\n"
     ]
    }
   ],
   "source": [
    "# Model score - r^2 or coeff of determinant\n",
    "# r^2 = 1-(RSS/TSS) = Regression error/TSS\n",
    "\n",
    "# Simple linear model\n",
    "print(regression_model.score(x_train,y_train))\n",
    "print(regression_model.score(x_test,y_test))\n",
    "\n",
    "print('***********************************************')\n",
    "# Ridge\n",
    "print(Ridge_model.score(x_train,y_train))\n",
    "print(Ridge_model.score(x_test,y_test))\n",
    "\n",
    "print('***********************************************')\n",
    "# Lasso\n",
    "print(Lasso_model.score(x_train,y_train))\n",
    "print(Lasso_model.score(x_test,y_test))\n"
   ]
  },
  {
   "cell_type": "markdown",
   "id": "b4e6348d",
   "metadata": {},
   "source": [
    "Polynomial Feature"
   ]
  },
  {
   "cell_type": "markdown",
   "id": "151c8c85",
   "metadata": {},
   "source": [
    "If you wish to furthercompute polynomial feature,you can use the below code"
   ]
  },
  {
   "cell_type": "code",
   "execution_count": 22,
   "id": "99900741",
   "metadata": {},
   "outputs": [],
   "source": [
    "# poly = Polynomial feature(degree = 2,interaction_only = True)\n",
    "\n",
    "#Fit calculates u and std dev while transform applies the transformation to a particular set of examples\n",
    "#Here fit_transform helps to fit and transform the X_s\n",
    "#Hence type(X_poly) is numpy.array while type(X_s) is pandas.DataFrame \n",
    "#X_poly = poly.fit_transform(X_s)\n",
    "#Similarly capture the coefficients and intercepts of this polynomial feature model"
   ]
  },
  {
   "cell_type": "markdown",
   "id": "4e47d825",
   "metadata": {},
   "source": [
    "4.model parameter Tuning"
   ]
  },
  {
   "cell_type": "markdown",
   "id": "66e1d1c6",
   "metadata": {},
   "source": [
    "* r^2 is not a reliable metric as it always increases with addition of more attributes even if the attributes have no influence on the predicted variable. Instead we use adjusted r^2 which removes the statistical chance that improves r^2 \n",
    "\n",
    "(adjusted r^2 = r^2 - fluke)\n",
    "* Scikit does not provide a facility for adjusted r^2... so we use statsmodel, a library that gives results similar to what you obtain in R language\n",
    "* This library expects the X and Y to be given in one single dataframe"
   ]
  },
  {
   "cell_type": "code",
   "execution_count": 23,
   "id": "5842f779",
   "metadata": {},
   "outputs": [
    {
     "data": {
      "text/html": [
       "<div>\n",
       "<style scoped>\n",
       "    .dataframe tbody tr th:only-of-type {\n",
       "        vertical-align: middle;\n",
       "    }\n",
       "\n",
       "    .dataframe tbody tr th {\n",
       "        vertical-align: top;\n",
       "    }\n",
       "\n",
       "    .dataframe thead th {\n",
       "        text-align: right;\n",
       "    }\n",
       "</style>\n",
       "<table border=\"1\" class=\"dataframe\">\n",
       "  <thead>\n",
       "    <tr style=\"text-align: right;\">\n",
       "      <th></th>\n",
       "      <th>cyl</th>\n",
       "      <th>disp</th>\n",
       "      <th>hp</th>\n",
       "      <th>wt</th>\n",
       "      <th>acc</th>\n",
       "      <th>yr</th>\n",
       "      <th>car_type</th>\n",
       "      <th>origin_american</th>\n",
       "      <th>origin_asia</th>\n",
       "      <th>origin_europe</th>\n",
       "      <th>mpg</th>\n",
       "    </tr>\n",
       "  </thead>\n",
       "  <tbody>\n",
       "    <tr>\n",
       "      <th>350</th>\n",
       "      <td>-0.856321</td>\n",
       "      <td>-0.849116</td>\n",
       "      <td>-1.081977</td>\n",
       "      <td>-0.893172</td>\n",
       "      <td>-0.242570</td>\n",
       "      <td>1.351199</td>\n",
       "      <td>0.941412</td>\n",
       "      <td>0.773559</td>\n",
       "      <td>-0.497643</td>\n",
       "      <td>-0.461968</td>\n",
       "      <td>1.432898</td>\n",
       "    </tr>\n",
       "    <tr>\n",
       "      <th>59</th>\n",
       "      <td>-0.856321</td>\n",
       "      <td>-0.925936</td>\n",
       "      <td>-1.317736</td>\n",
       "      <td>-0.847061</td>\n",
       "      <td>2.879909</td>\n",
       "      <td>-1.085858</td>\n",
       "      <td>0.941412</td>\n",
       "      <td>-1.292726</td>\n",
       "      <td>-0.497643</td>\n",
       "      <td>2.164651</td>\n",
       "      <td>-0.065919</td>\n",
       "    </tr>\n",
       "    <tr>\n",
       "      <th>120</th>\n",
       "      <td>-0.856321</td>\n",
       "      <td>-0.695475</td>\n",
       "      <td>0.201600</td>\n",
       "      <td>-0.121101</td>\n",
       "      <td>-0.024722</td>\n",
       "      <td>-0.815074</td>\n",
       "      <td>0.941412</td>\n",
       "      <td>-1.292726</td>\n",
       "      <td>-0.497643</td>\n",
       "      <td>2.164651</td>\n",
       "      <td>-0.578335</td>\n",
       "    </tr>\n",
       "    <tr>\n",
       "      <th>12</th>\n",
       "      <td>1.498191</td>\n",
       "      <td>1.983643</td>\n",
       "      <td>1.197027</td>\n",
       "      <td>0.934732</td>\n",
       "      <td>-2.203196</td>\n",
       "      <td>-1.627426</td>\n",
       "      <td>-1.062235</td>\n",
       "      <td>0.773559</td>\n",
       "      <td>-0.497643</td>\n",
       "      <td>-0.461968</td>\n",
       "      <td>-1.090751</td>\n",
       "    </tr>\n",
       "    <tr>\n",
       "      <th>349</th>\n",
       "      <td>-0.856321</td>\n",
       "      <td>-0.983552</td>\n",
       "      <td>-0.951000</td>\n",
       "      <td>-1.165111</td>\n",
       "      <td>0.156817</td>\n",
       "      <td>1.351199</td>\n",
       "      <td>0.941412</td>\n",
       "      <td>-1.292726</td>\n",
       "      <td>2.009471</td>\n",
       "      <td>-0.461968</td>\n",
       "      <td>1.356035</td>\n",
       "    </tr>\n",
       "  </tbody>\n",
       "</table>\n",
       "</div>"
      ],
      "text/plain": [
       "          cyl      disp        hp        wt       acc        yr  car_type  \\\n",
       "350 -0.856321 -0.849116 -1.081977 -0.893172 -0.242570  1.351199  0.941412   \n",
       "59  -0.856321 -0.925936 -1.317736 -0.847061  2.879909 -1.085858  0.941412   \n",
       "120 -0.856321 -0.695475  0.201600 -0.121101 -0.024722 -0.815074  0.941412   \n",
       "12   1.498191  1.983643  1.197027  0.934732 -2.203196 -1.627426 -1.062235   \n",
       "349 -0.856321 -0.983552 -0.951000 -1.165111  0.156817  1.351199  0.941412   \n",
       "\n",
       "     origin_american  origin_asia  origin_europe       mpg  \n",
       "350         0.773559    -0.497643      -0.461968  1.432898  \n",
       "59         -1.292726    -0.497643       2.164651 -0.065919  \n",
       "120        -1.292726    -0.497643       2.164651 -0.578335  \n",
       "12          0.773559    -0.497643      -0.461968 -1.090751  \n",
       "349        -1.292726     2.009471      -0.461968  1.356035  "
      ]
     },
     "execution_count": 23,
     "metadata": {},
     "output_type": "execute_result"
    }
   ],
   "source": [
    "data_train_test = pd.concat([x_train,y_train],axis=1)\n",
    "data_train_test.head()"
   ]
  },
  {
   "cell_type": "code",
   "execution_count": 28,
   "id": "245d2817",
   "metadata": {},
   "outputs": [],
   "source": [
    "#ols1 = smf.ols(formula='mpg ~ cyl+disp+hp+wt+acc+yr+car_type+origin_america+origin_europe+origin_asia',data= data_train_test).fit()\n",
    "#ols1.params"
   ]
  },
  {
   "cell_type": "code",
   "execution_count": 33,
   "id": "32138dc0",
   "metadata": {},
   "outputs": [],
   "source": [
    "#print(ols1.summary())"
   ]
  },
  {
   "cell_type": "code",
   "execution_count": 30,
   "id": "9a0060bd",
   "metadata": {},
   "outputs": [
    {
     "name": "stdout",
     "output_type": "stream",
     "text": [
      "Root mean squared error: 0.3776693425408784\n"
     ]
    }
   ],
   "source": [
    "# lets check sum of squared error (SSE) by predecting the value of y for test case and substracting from the actual y for the test cases\n",
    "mse = np.mean((regression_model.predict(x_test)- y_test)**2)\n",
    "\n",
    "# root of mean squared error is standard deaviation  i.e.avg variance between predict and actual\n",
    "import math\n",
    "rmse = math.sqrt(mse)\n",
    "print('Root mean squared error: {}'.format(rmse))"
   ]
  },
  {
   "cell_type": "code",
   "execution_count": 31,
   "id": "fcc3a210",
   "metadata": {},
   "outputs": [
    {
     "data": {
      "text/plain": [
       "<Axes: xlabel='acc', ylabel='mpg'>"
      ]
     },
     "execution_count": 31,
     "metadata": {},
     "output_type": "execute_result"
    },
    {
     "data": {
      "image/png": "[encoded data removed]",
      "text/plain": [
       "<Figure size 1000x800 with 1 Axes>"
      ]
     },
     "metadata": {},
     "output_type": "display_data"
    },
    {
     "data": {
      "image/png": "[encoded data removed]",
      "text/plain": [
       "<Figure size 1000x800 with 1 Axes>"
      ]
     },
     "metadata": {},
     "output_type": "display_data"
    }
   ],
   "source": [
    "# Is OLS a good model ? Lets check the residuals for some of these prediction\n",
    "\n",
    "fig = plt.figure(figsize=(10,8))\n",
    "sns.residplot(x = x_test['hp'],y = y_test['mpg'],color='green',lowess=True)\n",
    "\n",
    "fig = plt.figure(figsize=(10,8))\n",
    "sns.residplot(x = x_test['acc'],y = y_test['mpg'],color='green',lowess=True)\n"
   ]
  },
  {
   "cell_type": "code",
   "execution_count": 32,
   "id": "7010999b",
   "metadata": {},
   "outputs": [
    {
     "data": {
      "text/plain": [
       "<matplotlib.collections.PathCollection at 0x215e0c71810>"
      ]
     },
     "execution_count": 32,
     "metadata": {},
     "output_type": "execute_result"
    },
    {
     "data": {
      "image/png": "[encoded data removed]",
      "text/plain": [
       "<Figure size 640x480 with 1 Axes>"
      ]
     },
     "metadata": {},
     "output_type": "display_data"
    }
   ],
   "source": [
    "# predict millage (mpg) for a set of attribute not in the tranning or test set\n",
    "y_pred = regression_model.predict(x_test)\n",
    "\n",
    "# Scince this is regression plot the predicted y value vs actual y values for the test data\n",
    "# A good model's predection will be close to actual leading to high R and R2 values\n",
    "# plt.rcParams['figure.dpi'] = 500\n",
    "plt.scatter(y_test['mpg'],y_pred)"
   ]
  },
  {
   "cell_type": "markdown",
   "id": "fe083a50",
   "metadata": {},
   "source": [
    "5. Inference\n"
   ]
  },
  {
   "cell_type": "markdown",
   "id": "bb4aa2de",
   "metadata": {},
   "source": [
    "**Both Ridge & Lasso regularization performs very well on this data, though Ridge gives a better score. The above scatter plot depicts the correlation between the actual and predicted mpg values.**\n",
    "\n",
    "***This kernel is a work in progress.***"
   ]
  },
  {
   "cell_type": "code",
   "execution_count": null,
   "id": "3af75cba",
   "metadata": {},
   "outputs": [],
   "source": []
  }
 ],
 "metadata": {
  "kernelspec": {
   "display_name": "base",
   "language": "python",
   "name": "python3"
  },
  "language_info": {
   "codemirror_mode": {
    "name": "ipython",
    "version": 3
   },
   "file_extension": ".py",
   "mimetype": "text/x-python",
   "name": "python",
   "nbconvert_exporter": "python",
   "pygments_lexer": "ipython3",
   "version": "3.13.5"
  }
 },
 "nbformat": 4,
 "nbformat_minor": 5
}
